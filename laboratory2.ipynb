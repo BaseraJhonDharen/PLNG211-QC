{
  "nbformat": 4,
  "nbformat_minor": 0,
  "metadata": {
    "colab": {
      "provenance": [],
      "authorship_tag": "ABX9TyPNY8xoMdHrVnzfdmNnqktz",
      "include_colab_link": true
    },
    "kernelspec": {
      "name": "python3",
      "display_name": "Python 3"
    },
    "language_info": {
      "name": "python"
    }
  },
  "cells": [
    {
      "cell_type": "markdown",
      "metadata": {
        "id": "view-in-github",
        "colab_type": "text"
      },
      "source": [
        "<a href=\"https://colab.research.google.com/github/BaseraJhonDharen/PLNG211-QC/blob/main/laboratory2.ipynb\" target=\"_parent\"><img src=\"https://colab.research.google.com/assets/colab-badge.svg\" alt=\"Open In Colab\"/></a>"
      ]
    },
    {
      "cell_type": "markdown",
      "source": [
        "1.Write a Python to display your full name, student number, age, and course"
      ],
      "metadata": {
        "id": "jI5_Phumnem5"
      }
    },
    {
      "cell_type": "code",
      "execution_count": 7,
      "metadata": {
        "colab": {
          "base_uri": "https://localhost:8080/"
        },
        "id": "UwwuCtfQhjnF",
        "outputId": "cd1972be-8a3c-41b4-b5d1-6ad8001b476a"
      },
      "outputs": [
        {
          "output_type": "stream",
          "name": "stdout",
          "text": [
            "Name: Basera jhon Dharen\n",
            "Age: 21\n",
            "course: BSCS\n",
            "studentnumber: 0003216851\n"
          ]
        }
      ],
      "source": [
        "def personal_details():\n",
        "    name, age = \"Basera jhon Dharen\", 21\n",
        "    studentnumber = \"0003216851\"\n",
        "    course = \"BSCS\"\n",
        "    print(\"Name: {}\\nAge: {}\\ncourse: {}\\nstudentnumber: {}\".format(name, age, course, studentnumber))\n",
        "\n",
        "personal_details()"
      ]
    },
    {
      "cell_type": "markdown",
      "source": [
        "2.Create a class named Student with attributes: Name, Student_No, Age, School, and Course"
      ],
      "metadata": {
        "id": "G7xZvOqJjbId"
      }
    },
    {
      "cell_type": "code",
      "source": [
        "class StudentWithAttributes:\n",
        "    student_id = 'V10'\n",
        "    student_name = 'Jacqueline Barnett'\n",
        "    student_age = '22'\n",
        "    student_school = 'Eclaro Academy'\n",
        "    student_course = 'Information technology'\n",
        "    def display():\n",
        "        print(f'Student id: {Student.student_id}\\nStudent Name: {Student.student_name}\\nStudent age: {Student.student_age}\\nStudent school: {Student.student_school}\\nStudent course: {Student.student_course}')\n",
        "print(\"Original attributes and their values of the Student class:\")\n",
        "Student.display()"
      ],
      "metadata": {
        "colab": {
          "base_uri": "https://localhost:8080/"
        },
        "id": "nlamjn8mjbf0",
        "outputId": "c4c9b21c-6e7e-4af9-c0c8-77baae4be9f5"
      },
      "execution_count": 18,
      "outputs": [
        {
          "output_type": "stream",
          "name": "stdout",
          "text": [
            "Original attributes and their values of the Student class:\n",
            "Student id: V10\n",
            "Student Name: Jacqueline Barnett\n",
            "Student age: 22\n",
            "Student school: Eclaro Academy\n",
            "Student course: Information technology\n"
          ]
        }
      ]
    },
    {
      "cell_type": "markdown",
      "source": [
        "3.Create an object name Myself and assign an instance for each attribute."
      ],
      "metadata": {
        "id": "5V6MoO44nm2A"
      }
    },
    {
      "cell_type": "code",
      "source": [
        "class myself():\n",
        "    myname = \"dharen\"\n",
        "    age = \"22\"\n",
        "\n",
        "setattr(myself,\"myname\",\"dharen\")\n",
        "print(myself.myname)\n",
        "\n",
        "\n",
        "setattr(myself,\"age\",\"22\")\n",
        "print(myself.age)"
      ],
      "metadata": {
        "colab": {
          "base_uri": "https://localhost:8080/"
        },
        "id": "YwUeYl_onsx_",
        "outputId": "ca063b6a-40b0-4e83-feda-f9b519f22a0e"
      },
      "execution_count": 28,
      "outputs": [
        {
          "output_type": "stream",
          "name": "stdout",
          "text": [
            "dharen\n",
            "22\n"
          ]
        }
      ]
    },
    {
      "cell_type": "markdown",
      "source": [
        "4.Create a method Info() using an instantiation of a class."
      ],
      "metadata": {
        "id": "stMq2hLYqjlY"
      }
    },
    {
      "cell_type": "code",
      "source": [
        "class Point:\n",
        "    def __new__(cls, *args, **kwargs):\n",
        "        print(\"1. Create a new instance of Point.\")\n",
        "        return super().__new__(cls)\n",
        "\n",
        "    def __init__(self, x, y):\n",
        "        print(\"2. Initialize the new instance of Point.\")\n",
        "        self.x = x\n",
        "        self.y = y\n",
        "\n",
        "    def __repr__(self) -> str:\n",
        "        return f\"{type(self).__name__}(x={self.x}, y={self.y})\""
      ],
      "metadata": {
        "id": "e9tykAOxqj6f"
      },
      "execution_count": 37,
      "outputs": []
    }
  ]
}