{
  "nbformat": 4,
  "nbformat_minor": 0,
  "metadata": {
    "colab": {
      "provenance": [],
      "authorship_tag": "ABX9TyMZJmrMAwsZ7wyMO4rRREhq",
      "include_colab_link": true
    },
    "kernelspec": {
      "name": "python3",
      "display_name": "Python 3"
    },
    "language_info": {
      "name": "python"
    }
  },
  "cells": [
    {
      "cell_type": "markdown",
      "metadata": {
        "id": "view-in-github",
        "colab_type": "text"
      },
      "source": [
        "<a href=\"https://colab.research.google.com/github/BaseraJhonDharen/PLNG211-QC/blob/main/FUNCTION_Exercises.ipynb\" target=\"_parent\"><img src=\"https://colab.research.google.com/assets/colab-badge.svg\" alt=\"Open In Colab\"/></a>"
      ]
    },
    {
      "cell_type": "code",
      "execution_count": 5,
      "metadata": {
        "colab": {
          "base_uri": "https://localhost:8080/"
        },
        "id": "ICRRRsM5T1ge",
        "outputId": "f550e135-be18-4742-f21e-9cfad036cc1d"
      },
      "outputs": [
        {
          "output_type": "stream",
          "name": "stdout",
          "text": [
            "100\n",
            "Celcuis 37.78\n",
            "Kelvin 310.93\n"
          ]
        }
      ],
      "source": [
        "#Writing your own function/conversion\n",
        "def convert_to_celcius(fahrenheit):\n",
        "  return (fahrenheit-32) * 5/9\n",
        "\n",
        "def convert_to_kelvin(fahrenheit):\n",
        "  return((fahrenheit-32) *5/9) + 273.15\n",
        "fahrenheit = int(input())\n",
        "\n",
        "print(\"Celcuis\",round(convert_to_celcius(fahrenheit),2))\n",
        "print(\"Kelvin\",round(convert_to_kelvin(fahrenheit),2))\n"
      ]
    },
    {
      "cell_type": "code",
      "source": [
        "def Name():\n",
        "    pass"
      ],
      "metadata": {
        "id": "2Id2zV_4W3GG"
      },
      "execution_count": 8,
      "outputs": []
    },
    {
      "cell_type": "code",
      "source": [
        "def my_function(fname):\n",
        " return(fname + \"Sayo\")\n",
        "\n",
        "print(my_function(\"Mam\"))\n",
        "print(my_function(\"Maria\"))\n",
        "print(my_function(\"Rizette\"))"
      ],
      "metadata": {
        "colab": {
          "base_uri": "https://localhost:8080/"
        },
        "id": "UTsqPVWGXKd7",
        "outputId": "d78c336d-4b2e-4582-f1fe-5c0b21953728"
      },
      "execution_count": 9,
      "outputs": [
        {
          "output_type": "stream",
          "name": "stdout",
          "text": [
            "MamSayo\n",
            "MariaSayo\n",
            "RizetteSayo\n"
          ]
        }
      ]
    },
    {
      "cell_type": "code",
      "source": [
        "#return a value\n",
        "def myFunction(x):\n",
        "  return(5+x)\n",
        "print(myFunction(4))\n",
        "print(myFunction(5))\n",
        "print(myFunction(6))"
      ],
      "metadata": {
        "colab": {
          "base_uri": "https://localhost:8080/"
        },
        "id": "FRfXqk87ahlG",
        "outputId": "002dc360-b260-4078-eb08-91b7012d8278"
      },
      "execution_count": 10,
      "outputs": [
        {
          "output_type": "stream",
          "name": "stdout",
          "text": [
            "9\n",
            "10\n",
            "11\n"
          ]
        }
      ]
    },
    {
      "cell_type": "code",
      "source": [],
      "metadata": {
        "id": "F9aS5FmJahjb"
      },
      "execution_count": null,
      "outputs": []
    },
    {
      "cell_type": "code",
      "source": [
        "#Exercise 1\n",
        "print(min (2, 3, 4,))\n",
        "print(max (2, -3, 4, 7, -5))\n",
        "print(max (2, -3, min(4, 7), -5))\n"
      ],
      "metadata": {
        "colab": {
          "base_uri": "https://localhost:8080/"
        },
        "id": "fpGwrGZZbvre",
        "outputId": "c6594241-afbf-4fe9-c6ee-6a289cf6e18c"
      },
      "execution_count": 11,
      "outputs": [
        {
          "output_type": "stream",
          "name": "stdout",
          "text": [
            "2\n",
            "7\n",
            "4\n"
          ]
        }
      ]
    },
    {
      "cell_type": "code",
      "source": [
        "#Exercise 2\n",
        "import math\n",
        "\n",
        "def The_Sum(Number1, Number2, Number3):\n",
        "  return Number1 + Number2 + Number3\n",
        "def The_Average(Number1, Number2, Number3):\n",
        "  return (Number1 + Number2 + Number3)/3\n",
        "def The_SumSquare(Number1, Number2, Number3):\n",
        "  return math.pow(Number1,2) + math.pow(Number2,2) + math.pow(Number3,2)\n",
        "\n",
        "Number1 = int(input())\n",
        "Number2 = int(input())\n",
        "Number3 = int(input())\n",
        "\n",
        "print(\"The Sum: \",The_Sum(Number1, Number2, Number3))\n",
        "print(\"The Average: \",The_Average(Number1, Number2, Number3))\n",
        "print(\"Sum of Squares: \", The_SumSquare(Number1, Number2, Number3))"
      ],
      "metadata": {
        "colab": {
          "base_uri": "https://localhost:8080/"
        },
        "id": "lsMNBgRodHJ6",
        "outputId": "67d42054-ad23-45a4-8518-1f437d2d00cb"
      },
      "execution_count": 16,
      "outputs": [
        {
          "output_type": "stream",
          "name": "stdout",
          "text": [
            "22\n",
            "23\n",
            "22\n",
            "The Sum:  67\n",
            "The Average:  22.333333333333332\n",
            "Sum of Squares:  1497.0\n"
          ]
        }
      ]
    }
  ]
}