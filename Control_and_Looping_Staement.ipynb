{
  "nbformat": 4,
  "nbformat_minor": 0,
  "metadata": {
    "colab": {
      "provenance": [],
      "collapsed_sections": [],
      "authorship_tag": "ABX9TyP6qomxPR3ZXebtuGsml+Gc",
      "include_colab_link": true
    },
    "kernelspec": {
      "name": "python3",
      "display_name": "Python 3"
    },
    "language_info": {
      "name": "python"
    }
  },
  "cells": [
    {
      "cell_type": "markdown",
      "metadata": {
        "id": "view-in-github",
        "colab_type": "text"
      },
      "source": [
        "<a href=\"https://colab.research.google.com/github/BaseraJhonDharen/PLNG211-QC/blob/main/Control_and_Looping_Staement.ipynb\" target=\"_parent\"><img src=\"https://colab.research.google.com/assets/colab-badge.svg\" alt=\"Open In Colab\"/></a>"
      ]
    },
    {
      "cell_type": "code",
      "execution_count": 1,
      "metadata": {
        "id": "L2jAFzfJLEBa",
        "colab": {
          "base_uri": "https://localhost:8080/"
        },
        "outputId": "c7928d4d-6195-4f88-9daf-4e383611ad86"
      },
      "outputs": [
        {
          "output_type": "stream",
          "name": "stdout",
          "text": [
            "a is less than b\n"
          ]
        }
      ],
      "source": [
        "#if statement\n",
        "a=12\n",
        "b=100\n",
        "if a<b:\n",
        "  print('a is less than b')"
      ]
    },
    {
      "cell_type": "code",
      "source": [
        "#Elif statement\n",
        "if a<b:\n",
        "  print('a is less than b')\n",
        "elif a>b:\n",
        "  print('a is greater than b')"
      ],
      "metadata": {
        "colab": {
          "base_uri": "https://localhost:8080/"
        },
        "id": "TJ90bXh9M9UR",
        "outputId": "0cb3b341-e087-4c09-d4bf-f0ff12ed9278"
      },
      "execution_count": 2,
      "outputs": [
        {
          "output_type": "stream",
          "name": "stdout",
          "text": [
            "a is less than b\n"
          ]
        }
      ]
    },
    {
      "cell_type": "code",
      "source": [
        "#Elif statement\n",
        "if a<b:\n",
        "  print('a is less than b')\n",
        "elif a>b:\n",
        "    print('a is greater than b')\n",
        "else:\n",
        "      print('a is equal to b')"
      ],
      "metadata": {
        "colab": {
          "base_uri": "https://localhost:8080/"
        },
        "id": "ekuGW0UHNjcs",
        "outputId": "0cfdc211-67ad-4c31-8f58-ac74a28062a6"
      },
      "execution_count": 4,
      "outputs": [
        {
          "output_type": "stream",
          "name": "stdout",
          "text": [
            "a is less than b\n"
          ]
        }
      ]
    },
    {
      "cell_type": "markdown",
      "source": [
        "Short Hand If Statement"
      ],
      "metadata": {
        "id": "4sHk66C5OE3b"
      }
    },
    {
      "cell_type": "code",
      "source": [
        "#short hand if statement\n",
        "c=10\n",
        "d=5\n",
        "if c>d:\n",
        "  print('c>d')"
      ],
      "metadata": {
        "colab": {
          "base_uri": "https://localhost:8080/"
        },
        "id": "3bB3M9DqOJBq",
        "outputId": "0ffa0e9b-08df-4903-8ab2-b0d997d5e2a1"
      },
      "execution_count": 5,
      "outputs": [
        {
          "output_type": "stream",
          "name": "stdout",
          "text": [
            "c>d\n"
          ]
        }
      ]
    },
    {
      "cell_type": "code",
      "source": [
        "#short hand if... else statement\n",
        "print('c>d') if c>d else print('d>c')"
      ],
      "metadata": {
        "colab": {
          "base_uri": "https://localhost:8080/"
        },
        "id": "eJBhHVlWOXyh",
        "outputId": "ff5590de-e9d2-4c28-c845-52b3e22b455d"
      },
      "execution_count": 6,
      "outputs": [
        {
          "output_type": "stream",
          "name": "stdout",
          "text": [
            "c>d\n"
          ]
        }
      ]
    },
    {
      "cell_type": "markdown",
      "source": [
        "And statement"
      ],
      "metadata": {
        "id": "sAqzaoLhOrb5"
      }
    },
    {
      "cell_type": "code",
      "source": [
        "#and statement\n",
        "if 5>10 and 8>4:\n",
        "  ptnt('both statement are true')\n",
        "else:\n",
        "  print('one of the statement is false/ both statement are not true')"
      ],
      "metadata": {
        "colab": {
          "base_uri": "https://localhost:8080/"
        },
        "id": "fIbwcG87OucY",
        "outputId": "ec63144f-d7f6-417b-d573-5bf74272d405"
      },
      "execution_count": 7,
      "outputs": [
        {
          "output_type": "stream",
          "name": "stdout",
          "text": [
            "one of the statement is false/ both statement are not true\n"
          ]
        }
      ]
    },
    {
      "cell_type": "markdown",
      "source": [
        "Or statement"
      ],
      "metadata": {
        "id": "0W9OAu0pPfwu"
      }
    },
    {
      "cell_type": "code",
      "source": [
        "#or statemet\n",
        "if 5>10 or 4>8:\n",
        "  print('true')\n",
        "else:\n",
        "  print('false')"
      ],
      "metadata": {
        "colab": {
          "base_uri": "https://localhost:8080/"
        },
        "id": "QENMbMvpPkDe",
        "outputId": "bc7c063c-1068-4be3-925f-4df9ac2b63aa"
      },
      "execution_count": 8,
      "outputs": [
        {
          "output_type": "stream",
          "name": "stdout",
          "text": [
            "false\n"
          ]
        }
      ]
    },
    {
      "cell_type": "markdown",
      "source": [
        "Bitwise operator"
      ],
      "metadata": {
        "id": "YEHhsckLQF9k"
      }
    },
    {
      "cell_type": "code",
      "source": [
        "#bitwise operator ^ (XOR)\n",
        "e=4 #0100 in binary\n",
        "f=2 #0010 in binary\n",
        "e^f"
      ],
      "metadata": {
        "colab": {
          "base_uri": "https://localhost:8080/"
        },
        "id": "XYjPyDmkQqZM",
        "outputId": "a1e2b5e6-ff30-489d-a2c8-bf74dd09e645"
      },
      "execution_count": 9,
      "outputs": [
        {
          "output_type": "execute_result",
          "data": {
            "text/plain": [
              "6"
            ]
          },
          "metadata": {},
          "execution_count": 9
        }
      ]
    },
    {
      "cell_type": "markdown",
      "source": [
        "Nested if statement"
      ],
      "metadata": {
        "id": "a7AynQJBRwdY"
      }
    },
    {
      "cell_type": "code",
      "source": [
        "#Nested if statement\n",
        "x=41\n",
        "if x>10:\n",
        "  print('number is above 10')\n",
        "  if x>20:\n",
        "    print('number is above 20')\n",
        "    if x>30:\n",
        "      print('number is abovce 30')\n",
        "      if x>40:\n",
        "        print('number is above 40')\n",
        "        if x>50:\n",
        "          print('number is above 50')\n",
        "        else:\n",
        "          print('number is less than 50')\n",
        "      else:\n",
        "         print('number is less than 40')"
      ],
      "metadata": {
        "colab": {
          "base_uri": "https://localhost:8080/"
        },
        "id": "9w8z1et7TyzZ",
        "outputId": "68af73b8-f96c-4791-8646-e571a002e351"
      },
      "execution_count": 20,
      "outputs": [
        {
          "output_type": "stream",
          "name": "stdout",
          "text": [
            "number is above 10\n",
            "number is above 20\n",
            "number is abovce 30\n",
            "number is above 40\n",
            "number is less than 50\n"
          ]
        }
      ]
    },
    {
      "cell_type": "code",
      "source": [
        "#nested if statement\n",
        "x=39\n",
        "if x>10:\n",
        "  print('number is above 10')\n",
        "  if x>20:\n",
        "    print('number is above 20')\n",
        "    if x>30:\n",
        "      print('number is above 30')\n",
        "      if x>40:\n",
        "        print('number is above 40')\n",
        "        if x>50:\n",
        "          print('number is above 50')\n",
        "        else:\n",
        "          print('number is less than 40')\n",
        "      else:\n",
        "        print('number is less than 50')"
      ],
      "metadata": {
        "colab": {
          "base_uri": "https://localhost:8080/"
        },
        "id": "zBDsc90NYscq",
        "outputId": "eb49437c-a615-4e90-cb38-8d771eda44c4"
      },
      "execution_count": 23,
      "outputs": [
        {
          "output_type": "stream",
          "name": "stdout",
          "text": [
            "number is above 10\n",
            "number is above 20\n",
            "number is above 30\n",
            "number is less than 50\n"
          ]
        }
      ]
    },
    {
      "cell_type": "markdown",
      "source": [
        "For loop statement"
      ],
      "metadata": {
        "id": "GBM_SZcJZzwv"
      }
    },
    {
      "cell_type": "code",
      "source": [
        "#For loop statement\n",
        "week = ['sunday', 'monday', 'tuesday', 'wednesday', 'thursday', 'friday', 'saturday']\n",
        "for y in week:\n",
        "  print(y)"
      ],
      "metadata": {
        "colab": {
          "base_uri": "https://localhost:8080/"
        },
        "id": "qiuHHEsFZ2yy",
        "outputId": "148b50ed-11ea-4de9-f9ca-1d87fefa59bb"
      },
      "execution_count": 24,
      "outputs": [
        {
          "output_type": "stream",
          "name": "stdout",
          "text": [
            "sunday\n",
            "monday\n",
            "tuesday\n",
            "wednesday\n",
            "thursday\n",
            "friday\n",
            "saturday\n"
          ]
        }
      ]
    },
    {
      "cell_type": "code",
      "source": [
        "#for loop statement #if y == thursday break\n",
        "week = ['sunday', 'monday', 'tuesday', 'wednesday', 'thursday', 'friday', 'saturday']\n",
        "for y in week:\n",
        "  if y=='thursday':\n",
        "    break\n",
        "  print(y)"
      ],
      "metadata": {
        "colab": {
          "base_uri": "https://localhost:8080/"
        },
        "id": "Fhs3xn6Natqc",
        "outputId": "63da0dd4-1cf1-4265-fcc7-5115a2ce6dd0"
      },
      "execution_count": 29,
      "outputs": [
        {
          "output_type": "stream",
          "name": "stdout",
          "text": [
            "sunday\n",
            "monday\n",
            "tuesday\n",
            "wednesday\n"
          ]
        }
      ]
    },
    {
      "cell_type": "markdown",
      "source": [
        "Range () Function"
      ],
      "metadata": {
        "id": "a_ACZIWwbdnd"
      }
    },
    {
      "cell_type": "code",
      "source": [
        "#range () function\n",
        "for x in range(2,6):\n",
        "  print(x)"
      ],
      "metadata": {
        "colab": {
          "base_uri": "https://localhost:8080/"
        },
        "id": "p9hCVfglbhXs",
        "outputId": "3b837e05-30ec-430b-b2fe-916c8b54ce07"
      },
      "execution_count": 30,
      "outputs": [
        {
          "output_type": "stream",
          "name": "stdout",
          "text": [
            "2\n",
            "3\n",
            "4\n",
            "5\n"
          ]
        }
      ]
    },
    {
      "cell_type": "code",
      "source": [
        "#range () function\n",
        "for x in range(2,6,2):\n",
        "  print(x)"
      ],
      "metadata": {
        "colab": {
          "base_uri": "https://localhost:8080/"
        },
        "id": "gh48dnV6bzo4",
        "outputId": "96bf5fce-6fcb-4b64-cbf0-37129f31b9ca"
      },
      "execution_count": 31,
      "outputs": [
        {
          "output_type": "stream",
          "name": "stdout",
          "text": [
            "2\n",
            "4\n"
          ]
        }
      ]
    },
    {
      "cell_type": "code",
      "source": [
        "adjective=['red', 'big', 'tasty']\n",
        "fruits=['apple', 'banana', 'cherry']\n",
        "for x in adjective:\n",
        "  for y in fruits:\n",
        "    print(x,y)"
      ],
      "metadata": {
        "colab": {
          "base_uri": "https://localhost:8080/"
        },
        "id": "sUiHV8o4cI7o",
        "outputId": "90577044-0ffb-4046-9d15-ebe95cb77663"
      },
      "execution_count": 32,
      "outputs": [
        {
          "output_type": "stream",
          "name": "stdout",
          "text": [
            "red apple\n",
            "red banana\n",
            "red cherry\n",
            "big apple\n",
            "big banana\n",
            "big cherry\n",
            "tasty apple\n",
            "tasty banana\n",
            "tasty cherry\n"
          ]
        }
      ]
    },
    {
      "cell_type": "code",
      "source": [
        "i=1\n",
        "while i <=6:\n",
        "  print(i)\n",
        "  if i == 3:\n",
        "    break\n",
        "  i += 1"
      ],
      "metadata": {
        "colab": {
          "base_uri": "https://localhost:8080/"
        },
        "id": "Ta5VLk5KdPrM",
        "outputId": "32e2615b-a134-4829-8245-584df68d3ed4"
      },
      "execution_count": 34,
      "outputs": [
        {
          "output_type": "stream",
          "name": "stdout",
          "text": [
            "1\n",
            "2\n",
            "3\n"
          ]
        }
      ]
    },
    {
      "cell_type": "markdown",
      "source": [
        "Write a program that determines if the input age is qualified to vote or not.\n",
        "The qualifying age is 18 years old above."
      ],
      "metadata": {
        "id": "8sHfFtzUkphA"
      }
    },
    {
      "cell_type": "code",
      "source": [
        "#Write a program that determines if the input age is qualified to vote or not.\n",
        "#The qualifying age is 18 years old above.\n",
        "f=17\n",
        "if f<18:\n",
        "  print('f is not qualified to vote')\n",
        "elif f>=18:\n",
        "  print('f is qualified to vote')"
      ],
      "metadata": {
        "colab": {
          "base_uri": "https://localhost:8080/"
        },
        "id": "-Uz0SwxSkq4T",
        "outputId": "53f00838-300e-4951-f95c-4e74600be0e4"
      },
      "execution_count": 35,
      "outputs": [
        {
          "output_type": "stream",
          "name": "stdout",
          "text": [
            "f is not qualified to vote\n"
          ]
        }
      ]
    },
    {
      "cell_type": "code",
      "source": [
        "age = input('Enter the age: ')\n",
        "if int (age)<18:\n",
        "  print('age is not qualified')\n",
        "elif int(age)>=18:\n",
        "  print('age is qualified')"
      ],
      "metadata": {
        "colab": {
          "base_uri": "https://localhost:8080/"
        },
        "id": "zWYZrqvZlJsO",
        "outputId": "818fc2a9-ddbd-4760-abda-dcfdc9ae1f4d"
      },
      "execution_count": 37,
      "outputs": [
        {
          "output_type": "stream",
          "name": "stdout",
          "text": [
            "Enter the age: 18\n",
            "age is qualified\n"
          ]
        }
      ]
    },
    {
      "cell_type": "code",
      "source": [
        "#using while loop and break statement, the output is only 3\n",
        "i=3\n",
        "while i<=3:\n",
        "  print(i)\n",
        "  break"
      ],
      "metadata": {
        "colab": {
          "base_uri": "https://localhost:8080/"
        },
        "id": "fue5R6Y4lyQC",
        "outputId": "d60beb4c-3109-4e19-9397-323abfec9d04"
      },
      "execution_count": 38,
      "outputs": [
        {
          "output_type": "stream",
          "name": "stdout",
          "text": [
            "3\n"
          ]
        }
      ]
    }
  ]
}