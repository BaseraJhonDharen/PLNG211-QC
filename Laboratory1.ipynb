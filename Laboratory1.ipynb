{
  "nbformat": 4,
  "nbformat_minor": 0,
  "metadata": {
    "colab": {
      "provenance": [],
      "authorship_tag": "ABX9TyOJekmnNpTrzH7nZ9zEoZTT",
      "include_colab_link": true
    },
    "kernelspec": {
      "name": "python3",
      "display_name": "Python 3"
    },
    "language_info": {
      "name": "python"
    }
  },
  "cells": [
    {
      "cell_type": "markdown",
      "metadata": {
        "id": "view-in-github",
        "colab_type": "text"
      },
      "source": [
        "<a href=\"https://colab.research.google.com/github/BaseraJhonDharen/PLNG211-QC/blob/main/Laboratory1.ipynb\" target=\"_parent\"><img src=\"https://colab.research.google.com/assets/colab-badge.svg\" alt=\"Open In Colab\"/></a>"
      ]
    },
    {
      "cell_type": "markdown",
      "source": [
        "1.Write a Python program to create an array of 10 integers and display the array items. Access individual elements through indexes and compute for the sum"
      ],
      "metadata": {
        "id": "zCplkyB1LJxy"
      }
    },
    {
      "cell_type": "code",
      "source": [
        "from array import *\n",
        "array_num = array('i', [1,3,5,7,9])\n",
        "for i in array_num:\n",
        "    print(i)\n",
        "print(\"Access first three items individually\")\n",
        "print(array_num[0])\n",
        "print(array_num[1])\n",
        "print(array_num[2])\n"
      ],
      "metadata": {
        "colab": {
          "base_uri": "https://localhost:8080/"
        },
        "id": "dhX_Wtq-CBsE",
        "outputId": "b4c3cf7e-904d-4ec8-b816-34826f8c8ade"
      },
      "execution_count": 12,
      "outputs": [
        {
          "output_type": "stream",
          "name": "stdout",
          "text": [
            "1\n",
            "3\n",
            "5\n",
            "7\n",
            "9\n",
            "Access first three items individually\n",
            "1\n",
            "3\n",
            "5\n"
          ]
        }
      ]
    },
    {
      "cell_type": "markdown",
      "source": [
        "2.Write a Python program to append a new item to the end of the array. Original array: numbers = [1, 2, 3, 4, 5, 6, 7, 8, 9, 10]"
      ],
      "metadata": {
        "id": "_wX7F9iLDzRW"
      }
    },
    {
      "cell_type": "code",
      "source": [
        "from array import *\n",
        "array_num = array('i', [1, 2, 3, 4, 5, 6, 7, 8, 9, 10])\n",
        "print(\"Original array: \"+str(array_num))\n",
        "print(\"Append 11 at the end of the array:\")\n",
        "array_num.append(11)\n",
        "print(\"New array: \"+str(array_num))"
      ],
      "metadata": {
        "colab": {
          "base_uri": "https://localhost:8080/"
        },
        "id": "W-HBJzF_BSTm",
        "outputId": "0c9ece56-481f-4703-af38-32014e5686ec"
      },
      "execution_count": 11,
      "outputs": [
        {
          "output_type": "stream",
          "name": "stdout",
          "text": [
            "Original array: array('i', [1, 2, 3, 4, 5, 6, 7, 8, 9, 10])\n",
            "Append 11 at the end of the array:\n",
            "New array: array('i', [1, 2, 3, 4, 5, 6, 7, 8, 9, 10, 11])\n"
          ]
        }
      ]
    },
    {
      "cell_type": "markdown",
      "source": [
        "3.Write a Python program to insert a new item before the second element in an existing array. Original array: numbers = [1, 2, 3, 4, 5, 6, 7, 8, 9, 10]"
      ],
      "metadata": {
        "id": "axFhx3InDs71"
      }
    },
    {
      "cell_type": "code",
      "source": [
        "from array import *\n",
        "array_num = array('i', [1, 2, 3, 4, 5, 6, 7, 8, 9, 10,])\n",
        "print(\"Original array: \"+str(array_num))\n",
        "print(\"Insert new value 4 before 3:\")\n",
        "array_num.insert(1, 4)\n",
        "print(\"New array: \"+str(array_num))\n"
      ],
      "metadata": {
        "colab": {
          "base_uri": "https://localhost:8080/"
        },
        "id": "cmullnKtCDBT",
        "outputId": "0cb4daa8-e6ec-46e2-b635-3f6c1163573c"
      },
      "execution_count": 10,
      "outputs": [
        {
          "output_type": "stream",
          "name": "stdout",
          "text": [
            "Original array: array('i', [1, 2, 3, 4, 5, 6, 7, 8, 9, 10])\n",
            "Insert new value 4 before 3:\n",
            "New array: array('i', [1, 4, 2, 3, 4, 5, 6, 7, 8, 9, 10])\n"
          ]
        }
      ]
    },
    {
      "cell_type": "markdown",
      "source": [
        "4.Write a Python program to reverse the order of the items in the array. Original array: numbers = [5, 4, 3, 2, 1]"
      ],
      "metadata": {
        "id": "oCW6uebaD_uE"
      }
    },
    {
      "cell_type": "code",
      "source": [
        "from array import *\n",
        "array_num = array('i', [5, 4, 3, 2, 1,])\n",
        "print(\"Original array: \"+str(array_num))\n",
        "array_num.reverse()\n",
        "print(\"Reverse the order of the items:\")\n",
        "print(str(array_num))\n"
      ],
      "metadata": {
        "colab": {
          "base_uri": "https://localhost:8080/"
        },
        "id": "joV5hqpSECUf",
        "outputId": "d69e5604-ccad-43c2-bbe6-bdaf29d3074b"
      },
      "execution_count": 9,
      "outputs": [
        {
          "output_type": "stream",
          "name": "stdout",
          "text": [
            "Original array: array('i', [5, 4, 3, 2, 1])\n",
            "Reverse the order of the items:\n",
            "array('i', [1, 2, 3, 4, 5])\n"
          ]
        }
      ]
    },
    {
      "cell_type": "markdown",
      "source": [
        "5.Write a Python program to get the length of the array. Original array: numbers = [5, 4, 3, 2, 1"
      ],
      "metadata": {
        "id": "Dv44tP4YI78W"
      }
    },
    {
      "cell_type": "code",
      "source": [
        "import numpy as np\n",
        "\n",
        "arr = np.array([5,4,3,2,1])\n",
        "print(\"Elements in the array: \", arr)\n",
        "print(\"Length of the array: \", len(arr))"
      ],
      "metadata": {
        "colab": {
          "base_uri": "https://localhost:8080/"
        },
        "id": "6JwQwP41I8gu",
        "outputId": "6c64f0ea-83d7-4fd7-cb39-d41626862f1e"
      },
      "execution_count": 8,
      "outputs": [
        {
          "output_type": "stream",
          "name": "stdout",
          "text": [
            "Elements in the array:  [5 4 3 2 1]\n",
            "Length of the array:  5\n"
          ]
        }
      ]
    }
  ]
}