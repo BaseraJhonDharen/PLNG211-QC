{
  "nbformat": 4,
  "nbformat_minor": 0,
  "metadata": {
    "colab": {
      "provenance": [],
      "authorship_tag": "ABX9TyNvpV8YvJmM6pzavmc/BjS7",
      "include_colab_link": true
    },
    "kernelspec": {
      "name": "python3",
      "display_name": "Python 3"
    },
    "language_info": {
      "name": "python"
    }
  },
  "cells": [
    {
      "cell_type": "markdown",
      "metadata": {
        "id": "view-in-github",
        "colab_type": "text"
      },
      "source": [
        "<a href=\"https://colab.research.google.com/github/BaseraJhonDharen/PLNG211-QC/blob/main/APPLICATION1.ipynb\" target=\"_parent\"><img src=\"https://colab.research.google.com/assets/colab-badge.svg\" alt=\"Open In Colab\"/></a>"
      ]
    },
    {
      "cell_type": "code",
      "execution_count": 34,
      "metadata": {
        "colab": {
          "base_uri": "https://localhost:8080/"
        },
        "id": "cWnSUH58yrj2",
        "outputId": "adc0ad1a-2ad9-473e-a14a-01895cd8bdaf"
      },
      "outputs": [
        {
          "output_type": "stream",
          "name": "stdout",
          "text": [
            "Please Enter the Length of the Rectangle: 5\n",
            "Please Enter the Width of the Rectangle: 9\n",
            "Area of Rectangle = 45.00\n",
            "Perimeter of Rectangle = 28.00\n"
          ]
        }
      ],
      "source": [
        "class Rectangle:\n",
        "              \n",
        "\n",
        "    def __init__(self, length, width):\n",
        "         self.length = length\n",
        "         self.width = width\n",
        "           \n",
        "    def compute_area(self):\n",
        "        return self.length * self.width\n",
        "    \n",
        "    def compute_perimeter(self):\n",
        "        return 2 * (self.length+self.width)\n",
        "\n",
        "l= float(input('Please Enter the Length of the Rectangle: '))\n",
        "w= float(input('Please Enter the Width of the Rectangle: '))\n",
        "    \n",
        "\n",
        "object1 = Rectangle(l,w)\n",
        "\n",
        "area = object1.compute_area()\n",
        "perimeter = object1.compute_perimeter()\n",
        "\n",
        "print(\"Area of Rectangle = %.2f\" %area)\n",
        "print(\"Perimeter of Rectangle = %.2f\" %perimeter)"
      ]
    }
  ]
}