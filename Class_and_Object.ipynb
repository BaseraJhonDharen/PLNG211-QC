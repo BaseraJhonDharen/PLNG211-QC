{
  "nbformat": 4,
  "nbformat_minor": 0,
  "metadata": {
    "colab": {
      "provenance": [],
      "authorship_tag": "ABX9TyPZMgdSREIrbnFUsln+0iRp",
      "include_colab_link": true
    },
    "kernelspec": {
      "name": "python3",
      "display_name": "Python 3"
    },
    "language_info": {
      "name": "python"
    }
  },
  "cells": [
    {
      "cell_type": "markdown",
      "metadata": {
        "id": "view-in-github",
        "colab_type": "text"
      },
      "source": [
        "<a href=\"https://colab.research.google.com/github/BaseraJhonDharen/PLNG211-QC/blob/main/Class_and_Object.ipynb\" target=\"_parent\"><img src=\"https://colab.research.google.com/assets/colab-badge.svg\" alt=\"Open In Colab\"/></a>"
      ]
    },
    {
      "cell_type": "code",
      "execution_count": null,
      "metadata": {
        "id": "OBX62ivshjO6"
      },
      "outputs": [],
      "source": [
        "class Person:\n",
        "  def __init__(self,name,age):\n",
        "    self.name = name                #attributes\n",
        "    self.age = age\n",
        "class Student(Person):\n",
        "  pass\n",
        "\n",
        "class Teacher(Person):\n",
        "  pass\n",
        "person1 = Person(\"Ana\",36)         #instantiation/add a value to an attribute\n",
        "print(\"The name of the person is:\",person1.name)\n",
        "print(\"The age of the person is:\",person1.age)\n",
        "\n",
        "person2 = Student(\"Lino\",32)      #inheritance\n",
        "print(\"The name of the student is:\",person2.name)\n",
        "print(\"The age of the student is:\",person2.age)\n",
        "\n",
        "person3 = Teacher(\"Maria\",39)\n",
        "print(\"The name of the teacher is:\",person3.name)\n",
        "print(\"The age of the teacher is:\",person3.age)"
      ]
    },
    {
      "cell_type": "code",
      "source": [
        "class Person:\n",
        "  def __init__(self,name,age):\n",
        "    self.name = name                #attributes\n",
        "    self.age = age\n",
        "\n",
        "  def Name(self,name):\n",
        "    print(\"The person is\"+self.name)\n",
        "\n",
        "person1 = Person(\"Ana\",36)         #instantiation/add a value to an attribute\n",
        "print(\"The name of the person is:\",person1.name)\n",
        "print(\"The age of the person is:\",person1.age)"
      ],
      "metadata": {
        "id": "J8YkFqY2hoTd"
      },
      "execution_count": null,
      "outputs": []
    },
    {
      "cell_type": "code",
      "source": [
        "#APPLICATION1\n",
        "class Rectangle:\n",
        "              \n",
        "\n",
        "    def __init__(self, length, width):\n",
        "         self.length = length\n",
        "         self.width = width\n",
        "           \n",
        "    def compute_area(self):\n",
        "        return self.length * self.width\n",
        "    \n",
        "    def compute_perimeter(self):\n",
        "        return 2 * (self.length+self.width)\n",
        "\n",
        "l= float(input('Please Enter the Length of the Rectangle: '))\n",
        "w= float(input('Please Enter the Width of the Rectangle: '))\n",
        "    \n",
        "\n",
        "object1 = Rectangle(l,w)\n",
        "\n",
        "area = object1.compute_area()\n",
        "perimeter = object1.compute_perimeter()\n",
        "\n",
        "print(\"Area of Rectangle = %.2f\" %area)\n",
        "print(\"Perimeter of Rectangle = %.2f\" %perimeter)"
      ],
      "metadata": {
        "id": "b2Cj4PV-h7RT"
      },
      "execution_count": null,
      "outputs": []
    }
  ]
}